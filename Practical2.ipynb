{
 "cells": [
  {
   "cell_type": "code",
   "execution_count": null,
   "metadata": {},
   "outputs": [],
   "source": [
    "import numpy as np\n",
    "import timeit\n",
    "\n",
    "import matplotlib.pyplot as plt\n",
    "\n",
    "fig = plt.figure()\n",
    "ax1 = fig.add_subplot(211)\n",
    "ax2 = fig.add_subplot(212)\n",
    "\n",
    "\n",
    "def matprint(mat, fmt=\"g\"):\n",
    "    col_maxes = [max([len((\"{:\"+fmt+\"}\").format(x)) for x in col]) for col in mat.T]\n",
    "    for x in mat:\n",
    "        for i, y in enumerate(x):\n",
    "            print((\"{:\"+str(col_maxes[i])+fmt+\"}\").format(y), end=\"  \")\n",
    "        print(\"\")\n",
    "        \n",
    "def vecprint(x, fmt=\"g\"):\n",
    "    for i, y in enumerate(x):\n",
    "        print((\"{:\"+str(i)+fmt+\"}\").format(y), end=\"  \")\n",
    "    print(\"\")    \n",
    "\n",
    "nb = 50  # number of blocks\n",
    "nc = 2    # number of equations/unknowns\n",
    "Theta = 2  # V phi dx / k A dt\n",
    "p_inj = 200\n",
    "p_prod = 100\n",
    "s_inj = 0.9\n",
    "\n",
    "i_inj = 0 \n",
    "i_prod = nb-1\n",
    "\n",
    "s = np.ones(nb)*0.1\n",
    "p = np.ones(nb)*150\n",
    "\n",
    "p_0 = 1\n",
    "c_o = 1e-5\n",
    "c_w = 1e-5\n",
    "rho_o0 = 20\n",
    "rho_w0 = 10\n",
    "mu_o = 2\n",
    "mu_w = 1\n",
    "n_o = 2\n",
    "n_w = 2\n",
    "\n",
    "rho_w = lambda p: rho_w0 * (1 + c_w * (p - p_0)) \n",
    "rho_o = lambda p: rho_o0 * (1 + c_o * (p - p_0)) \n",
    "\n",
    "a = dict([(0, lambda p, s: rho_w(p) * s),\n",
    "          (1, lambda p, s: rho_o(p) * (1 - s))])\n",
    "\n",
    "b = dict([(0, lambda p, s: rho_w(p) * s**n_w / mu_w),\n",
    "          (1, lambda p, s: rho_o(p) * (1-s)**n_o / mu_o)])"
   ]
  }
 ],
 "metadata": {
  "kernelspec": {
   "display_name": "Python 3",
   "language": "python",
   "name": "python3"
  },
  "language_info": {
   "codemirror_mode": {
    "name": "ipython",
    "version": 3
   },
   "file_extension": ".py",
   "mimetype": "text/x-python",
   "name": "python",
   "nbconvert_exporter": "python",
   "pygments_lexer": "ipython3",
   "version": "3.6.5"
  }
 },
 "nbformat": 4,
 "nbformat_minor": 4
}
