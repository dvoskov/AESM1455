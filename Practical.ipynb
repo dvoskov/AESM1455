{
 "cells": [
  {
   "cell_type": "code",
   "execution_count": null,
   "metadata": {},
   "outputs": [],
   "source": [
    "import numpy as np\n",
    "import torch as tr\n",
    "\n",
    "def matprint(mat, fmt=\"g\"):\n",
    "    col_maxes = [max([len((\"{:\"+fmt+\"}\").format(x)) for x in col]) for col in mat.T]\n",
    "    for x in mat:\n",
    "        for i, y in enumerate(x):\n",
    "            print((\"{:\"+str(col_maxes[i])+fmt+\"}\").format(y), end=\"  \")\n",
    "        print(\"\")\n",
    "        \n",
    "def vecprint(x, fmt=\"g\"):\n",
    "    for i, y in enumerate(x):\n",
    "        print((\"{:\"+str(i)+fmt+\"}\").format(y), end=\"  \")\n",
    "    print(\"\")    \n",
    "\n",
    "nb = 5  # number of blocks\n",
    "nc = 2    # number of equations/unknowns\n",
    "Theta = 100  # V phi dx / k A dt\n",
    "p_inj = 200\n",
    "p_prod = 100\n",
    "s_inj = 0.9\n",
    "\n",
    "s = np.ones(nb)*0.1\n",
    "p = np.ones(nb)*150\n",
    "\n",
    "p_0 = 1\n",
    "c_g = 1e-5\n",
    "c_w = 1e-5\n",
    "rho_g0 = 20\n",
    "rho_w0 = 10\n",
    "mu_g = 2\n",
    "mu_w = 1\n",
    "n_g = 2\n",
    "n_w = 2\n",
    "\n"
   ]
  },
  {
   "cell_type": "code",
   "execution_count": null,
   "metadata": {},
   "outputs": [],
   "source": []
  }
 ],
 "metadata": {
  "kernelspec": {
   "display_name": "Python 3",
   "language": "python",
   "name": "python3"
  },
  "language_info": {
   "codemirror_mode": {
    "name": "ipython",
    "version": 3
   },
   "file_extension": ".py",
   "mimetype": "text/x-python",
   "name": "python",
   "nbconvert_exporter": "python",
   "pygments_lexer": "ipython3",
   "version": "3.6.5"
  }
 },
 "nbformat": 4,
 "nbformat_minor": 4
}
